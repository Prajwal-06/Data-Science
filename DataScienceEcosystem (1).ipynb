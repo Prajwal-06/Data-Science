{
 "cells": [
  {
   "cell_type": "markdown",
   "id": "611006d5-4cb7-4646-a68e-b7575b5b7a87",
   "metadata": {},
   "source": [
    "# Data Science Tools and Ecosystem"
   ]
  },
  {
   "cell_type": "markdown",
   "id": "547e3737-d9c6-4936-863b-137f73fe8ebb",
   "metadata": {},
   "source": [
    "Some of the commonly used libraries used by Data Scientists include:\n",
    "1. Python\n",
    "2. R\n",
    "3. SQL"
   ]
  },
  {
   "cell_type": "markdown",
   "id": "f2cafff0-7e94-456c-8bf3-52f39c42318f",
   "metadata": {},
   "source": [
    "In this notebook, Data Science Tools and Ecosystem are summarized."
   ]
  },
  {
   "cell_type": "markdown",
   "id": "4924acd7-c3dc-4c21-afe1-9002c0f41d4c",
   "metadata": {
    "tags": []
   },
   "source": [
    "**Objectives:**\n",
    "\n",
    "- Explore fundamental concepts of programming.\n",
    "- Learn basic syntax and usage of a programming language.\n",
    "- Understand the principles of data manipulation and analysis.\n",
    "- List popular languages for Data Science.\n",
    "- Gain hands-on experience with coding exercises and examples"
   ]
  },
  {
   "cell_type": "markdown",
   "id": "f78e9bcb-edcd-4b87-b696-1b2680c176e0",
   "metadata": {},
   "source": [
    "|Data Science Tools|\n",
    "|-------------------|\n",
    "|Jupyter Notebook|\n",
    "|RStudio|\n",
    "|VS Code with Python|"
   ]
  },
  {
   "cell_type": "markdown",
   "id": "e53d9973-1c8b-45e2-a106-620ffe0e65de",
   "metadata": {},
   "source": [
    "Some of the commonly used libraries used by Data Scientists include:\n",
    "\n",
    "1. **NumPy** \n",
    "2. **Pandas** .\n",
    "\n",
    "3. **Matplotlib** \n",
    "\n"
   ]
  },
  {
   "cell_type": "markdown",
   "id": "cc091d9e-3c3d-4d17-9c58-c1733217d104",
   "metadata": {
    "tags": []
   },
   "source": [
    "### Below are a few examples of evaluating arithmetic expressions in Python"
   ]
  },
  {
   "cell_type": "code",
   "execution_count": 5,
   "id": "7501210e-6900-4d30-8b4d-f620421d0d17",
   "metadata": {
    "tags": []
   },
   "outputs": [
    {
     "data": {
      "text/plain": [
       "17"
      ]
     },
     "execution_count": 5,
     "metadata": {},
     "output_type": "execute_result"
    }
   ],
   "source": [
    "# this a simple arithmetic expression to mutiply then add integers\n",
    "(3*4)+5"
   ]
  },
  {
   "cell_type": "code",
   "execution_count": 6,
   "id": "904f5d4f-66de-4cf4-b6e1-a223fd6ea548",
   "metadata": {
    "tags": []
   },
   "outputs": [
    {
     "name": "stdout",
     "output_type": "stream",
     "text": [
      "3.3333333333333335\n"
     ]
    }
   ],
   "source": [
    "# This will convert 200 minutes to hours by dividing by 60.\n",
    "hours = 200 / 60\n",
    "print(hours)"
   ]
  },
  {
   "cell_type": "markdown",
   "id": "7a39283c-71a6-4e74-a347-efda0efe3e20",
   "metadata": {},
   "source": [
    "## Author\n",
    "\n",
    "Prajwal Matsagar"
   ]
  },
  {
   "cell_type": "code",
   "execution_count": null,
   "id": "2210d5d0-c7ee-4f38-913a-27d1c4df9027",
   "metadata": {},
   "outputs": [],
   "source": []
  }
 ],
 "metadata": {
  "kernelspec": {
   "display_name": "Python",
   "language": "python",
   "name": "conda-env-python-py"
  },
  "language_info": {
   "codemirror_mode": {
    "name": "ipython",
    "version": 3
   },
   "file_extension": ".py",
   "mimetype": "text/x-python",
   "name": "python",
   "nbconvert_exporter": "python",
   "pygments_lexer": "ipython3",
   "version": "3.7.12"
  }
 },
 "nbformat": 4,
 "nbformat_minor": 5
}
